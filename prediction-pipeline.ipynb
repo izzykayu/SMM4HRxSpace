{
 "cells": [
  {
   "cell_type": "code",
   "execution_count": 1,
   "metadata": {},
   "outputs": [],
   "source": [
    "import spacy\n",
    "import pandas as pd\n",
    "\n",
    "test_file_path = \n",
    "# test_df = pd.read_csv('data/data-orig/4_test_participant.csv')\n",
    "# test_df.head()"
   ]
  },
  {
   "cell_type": "code",
   "execution_count": 2,
   "metadata": {},
   "outputs": [],
   "source": [
    "# load in training data\n",
    "#val_fid = 'data/task4_ekp_test.jsonl'\n",
    "val_fid = 'data/forprodigy/val-orig-ekp.jsonl'\n"
   ]
  },
  {
   "cell_type": "code",
   "execution_count": 3,
   "metadata": {},
   "outputs": [],
   "source": [
    "val_df = pd.read_json(val_fid, lines=True)"
   ]
  },
  {
   "cell_type": "code",
   "execution_count": 4,
   "metadata": {},
   "outputs": [],
   "source": [
    "val_df['tweetid'] = val_df['metadata'].map(lambda x: x.get('tweetid'))"
   ]
  },
  {
   "cell_type": "code",
   "execution_count": 5,
   "metadata": {},
   "outputs": [
    {
     "data": {
      "text/html": [
       "<div>\n",
       "<style scoped>\n",
       "    .dataframe tbody tr th:only-of-type {\n",
       "        vertical-align: middle;\n",
       "    }\n",
       "\n",
       "    .dataframe tbody tr th {\n",
       "        vertical-align: top;\n",
       "    }\n",
       "\n",
       "    .dataframe thead th {\n",
       "        text-align: right;\n",
       "    }\n",
       "</style>\n",
       "<table border=\"1\" class=\"dataframe\">\n",
       "  <thead>\n",
       "    <tr style=\"text-align: right;\">\n",
       "      <th></th>\n",
       "      <th>text</th>\n",
       "      <th>metadata</th>\n",
       "      <th>label</th>\n",
       "      <th>tweetid</th>\n",
       "    </tr>\n",
       "  </thead>\n",
       "  <tbody>\n",
       "    <tr>\n",
       "      <th>0</th>\n",
       "      <td>can somebody tell me what morphine is for ?</td>\n",
       "      <td>{'tweetid': 1201409307167862784}</td>\n",
       "      <td>MENTION</td>\n",
       "      <td>1201409307167862784</td>\n",
       "    </tr>\n",
       "    <tr>\n",
       "      <th>1</th>\n",
       "      <td>&lt;number&gt; mg . &lt;number&gt; of my x &lt;number&gt; i feel...</td>\n",
       "      <td>{'tweetid': 1200007750383738885}</td>\n",
       "      <td>MENTION</td>\n",
       "      <td>1200007750383738885</td>\n",
       "    </tr>\n",
       "    <tr>\n",
       "      <th>2</th>\n",
       "      <td>oh hello crippling anxiety , let ’ s drive hom...</td>\n",
       "      <td>{'tweetid': 1199244035006902272}</td>\n",
       "      <td>CONSUMPTION</td>\n",
       "      <td>1199244035006902272</td>\n",
       "    </tr>\n",
       "    <tr>\n",
       "      <th>3</th>\n",
       "      <td>pop a adderall we gone fuck all night</td>\n",
       "      <td>{'tweetid': 1199782125609902084}</td>\n",
       "      <td>MENTION</td>\n",
       "      <td>1199782125609902084</td>\n",
       "    </tr>\n",
       "    <tr>\n",
       "      <th>4</th>\n",
       "      <td>&lt;hashtag&gt; fake exercise facts &lt;/hashtag&gt; a xan...</td>\n",
       "      <td>{'tweetid': 1199783941764517889}</td>\n",
       "      <td>MENTION</td>\n",
       "      <td>1199783941764517889</td>\n",
       "    </tr>\n",
       "  </tbody>\n",
       "</table>\n",
       "</div>"
      ],
      "text/plain": [
       "                                                text  \\\n",
       "0        can somebody tell me what morphine is for ?   \n",
       "1  <number> mg . <number> of my x <number> i feel...   \n",
       "2  oh hello crippling anxiety , let ’ s drive hom...   \n",
       "3              pop a adderall we gone fuck all night   \n",
       "4  <hashtag> fake exercise facts </hashtag> a xan...   \n",
       "\n",
       "                           metadata        label              tweetid  \n",
       "0  {'tweetid': 1201409307167862784}      MENTION  1201409307167862784  \n",
       "1  {'tweetid': 1200007750383738885}      MENTION  1200007750383738885  \n",
       "2  {'tweetid': 1199244035006902272}  CONSUMPTION  1199244035006902272  \n",
       "3  {'tweetid': 1199782125609902084}      MENTION  1199782125609902084  \n",
       "4  {'tweetid': 1199783941764517889}      MENTION  1199783941764517889  "
      ]
     },
     "execution_count": 5,
     "metadata": {},
     "output_type": "execute_result"
    }
   ],
   "source": [
    "val_df.head()"
   ]
  },
  {
   "cell_type": "code",
   "execution_count": 6,
   "metadata": {},
   "outputs": [
    {
     "name": "stdout",
     "output_type": "stream",
     "text": [
      "loading models/finalsm4hmodel/\n"
     ]
    }
   ],
   "source": [
    "mid = 'models/finalsm4hmodel/'\n",
    "print(f\"loading {mid}\")\n",
    "nlp = spacy.load(mid)"
   ]
  },
  {
   "cell_type": "code",
   "execution_count": null,
   "metadata": {},
   "outputs": [],
   "source": [
    "# val_df = pd.read_csv('data/orig/validation.csv')\n",
    "# val_df.head()"
   ]
  },
  {
   "cell_type": "code",
   "execution_count": 7,
   "metadata": {},
   "outputs": [],
   "source": [
    "tweetids = val_df['tweetid'].tolist()\n",
    "texts = val_df['text'].tolist()\n",
    "\n",
    "#for i, row in val_df.itterows():\n"
   ]
  },
  {
   "cell_type": "code",
   "execution_count": null,
   "metadata": {},
   "outputs": [],
   "source": [
    "def get_top_cat(doc):\n",
    "    \"\"\"\n",
    "    function takes a spacy doc object and returns a\n",
    "    :param doc:\n",
    "    :return: top category and max score\n",
    "    \"\"\"\n",
    "    cats = doc.cats\n",
    "    max_score = max(cats.values())\n",
    "    max_cats = [k for k, v in cats.items() if v == max_score]\n",
    "    max_cat = max_cats[0]\n",
    "    return (max_cat, max_score)"
   ]
  },
  {
   "cell_type": "code",
   "execution_count": 8,
   "metadata": {},
   "outputs": [],
   "source": [
    "val_df['cats'] = val_df['text'].map(lambda x: nlp(x).to_json().get('cats'))"
   ]
  },
  {
   "cell_type": "code",
   "execution_count": 9,
   "metadata": {},
   "outputs": [
    {
     "data": {
      "text/html": [
       "<div>\n",
       "<style scoped>\n",
       "    .dataframe tbody tr th:only-of-type {\n",
       "        vertical-align: middle;\n",
       "    }\n",
       "\n",
       "    .dataframe tbody tr th {\n",
       "        vertical-align: top;\n",
       "    }\n",
       "\n",
       "    .dataframe thead th {\n",
       "        text-align: right;\n",
       "    }\n",
       "</style>\n",
       "<table border=\"1\" class=\"dataframe\">\n",
       "  <thead>\n",
       "    <tr style=\"text-align: right;\">\n",
       "      <th></th>\n",
       "      <th>text</th>\n",
       "      <th>metadata</th>\n",
       "      <th>label</th>\n",
       "      <th>tweetid</th>\n",
       "      <th>UNRELATED</th>\n",
       "      <th>ABUSE</th>\n",
       "      <th>MENTION</th>\n",
       "      <th>CONSUMPTION</th>\n",
       "      <th>prediction</th>\n",
       "    </tr>\n",
       "  </thead>\n",
       "  <tbody>\n",
       "    <tr>\n",
       "      <th>0</th>\n",
       "      <td>can somebody tell me what morphine is for ?</td>\n",
       "      <td>{'tweetid': 1201409307167862784}</td>\n",
       "      <td>MENTION</td>\n",
       "      <td>1201409307167862784</td>\n",
       "      <td>1.410154e-03</td>\n",
       "      <td>0.083361</td>\n",
       "      <td>0.874763</td>\n",
       "      <td>0.040466</td>\n",
       "      <td>MENTION</td>\n",
       "    </tr>\n",
       "    <tr>\n",
       "      <th>1</th>\n",
       "      <td>&lt;number&gt; mg . &lt;number&gt; of my x &lt;number&gt; i feel...</td>\n",
       "      <td>{'tweetid': 1200007750383738885}</td>\n",
       "      <td>MENTION</td>\n",
       "      <td>1200007750383738885</td>\n",
       "      <td>1.095793e-04</td>\n",
       "      <td>0.669547</td>\n",
       "      <td>0.132934</td>\n",
       "      <td>0.197410</td>\n",
       "      <td>ABUSE</td>\n",
       "    </tr>\n",
       "    <tr>\n",
       "      <th>2</th>\n",
       "      <td>oh hello crippling anxiety , let ’ s drive hom...</td>\n",
       "      <td>{'tweetid': 1199244035006902272}</td>\n",
       "      <td>CONSUMPTION</td>\n",
       "      <td>1199244035006902272</td>\n",
       "      <td>2.389672e-03</td>\n",
       "      <td>0.051098</td>\n",
       "      <td>0.449078</td>\n",
       "      <td>0.497435</td>\n",
       "      <td>CONSUMPTION</td>\n",
       "    </tr>\n",
       "    <tr>\n",
       "      <th>3</th>\n",
       "      <td>pop a adderall we gone fuck all night</td>\n",
       "      <td>{'tweetid': 1199782125609902084}</td>\n",
       "      <td>MENTION</td>\n",
       "      <td>1199782125609902084</td>\n",
       "      <td>1.009009e-07</td>\n",
       "      <td>0.756364</td>\n",
       "      <td>0.243469</td>\n",
       "      <td>0.000166</td>\n",
       "      <td>ABUSE</td>\n",
       "    </tr>\n",
       "    <tr>\n",
       "      <th>4</th>\n",
       "      <td>&lt;hashtag&gt; fake exercise facts &lt;/hashtag&gt; a xan...</td>\n",
       "      <td>{'tweetid': 1199783941764517889}</td>\n",
       "      <td>MENTION</td>\n",
       "      <td>1199783941764517889</td>\n",
       "      <td>3.177746e-05</td>\n",
       "      <td>0.014868</td>\n",
       "      <td>0.967707</td>\n",
       "      <td>0.017393</td>\n",
       "      <td>MENTION</td>\n",
       "    </tr>\n",
       "    <tr>\n",
       "      <th>...</th>\n",
       "      <td>...</td>\n",
       "      <td>...</td>\n",
       "      <td>...</td>\n",
       "      <td>...</td>\n",
       "      <td>...</td>\n",
       "      <td>...</td>\n",
       "      <td>...</td>\n",
       "      <td>...</td>\n",
       "      <td>...</td>\n",
       "    </tr>\n",
       "    <tr>\n",
       "      <th>2630</th>\n",
       "      <td>&lt;user&gt; that was not annie hall or diane keaton...</td>\n",
       "      <td>{'tweetid': 1200980670782300160}</td>\n",
       "      <td>MENTION</td>\n",
       "      <td>1200980670782300160</td>\n",
       "      <td>3.268142e-04</td>\n",
       "      <td>0.010695</td>\n",
       "      <td>0.947282</td>\n",
       "      <td>0.041696</td>\n",
       "      <td>MENTION</td>\n",
       "    </tr>\n",
       "    <tr>\n",
       "      <th>2631</th>\n",
       "      <td>&lt;user&gt; suboxone for opiate dependent individua...</td>\n",
       "      <td>{'tweetid': 1199509721868374022}</td>\n",
       "      <td>MENTION</td>\n",
       "      <td>1199509721868374022</td>\n",
       "      <td>2.349959e-07</td>\n",
       "      <td>0.002282</td>\n",
       "      <td>0.996483</td>\n",
       "      <td>0.001235</td>\n",
       "      <td>MENTION</td>\n",
       "    </tr>\n",
       "    <tr>\n",
       "      <th>2632</th>\n",
       "      <td>small brain : love lil pump med brain : xanax ...</td>\n",
       "      <td>{'tweetid': 1198691681119490050}</td>\n",
       "      <td>MENTION</td>\n",
       "      <td>1198691681119490050</td>\n",
       "      <td>2.855488e-02</td>\n",
       "      <td>0.004804</td>\n",
       "      <td>0.964649</td>\n",
       "      <td>0.001993</td>\n",
       "      <td>MENTION</td>\n",
       "    </tr>\n",
       "    <tr>\n",
       "      <th>2633</th>\n",
       "      <td>&lt;user&gt; do they have a physician ? many will gi...</td>\n",
       "      <td>{'tweetid': 1200884551108714497}</td>\n",
       "      <td>MENTION</td>\n",
       "      <td>1200884551108714497</td>\n",
       "      <td>3.453002e-07</td>\n",
       "      <td>0.019952</td>\n",
       "      <td>0.953284</td>\n",
       "      <td>0.026764</td>\n",
       "      <td>MENTION</td>\n",
       "    </tr>\n",
       "    <tr>\n",
       "      <th>2634</th>\n",
       "      <td>&lt;user&gt; &lt;user&gt; &lt;user&gt; the uninformed would thin...</td>\n",
       "      <td>{'tweetid': 1198545033261199361}</td>\n",
       "      <td>MENTION</td>\n",
       "      <td>1198545033261199361</td>\n",
       "      <td>2.934884e-05</td>\n",
       "      <td>0.000142</td>\n",
       "      <td>0.999545</td>\n",
       "      <td>0.000284</td>\n",
       "      <td>MENTION</td>\n",
       "    </tr>\n",
       "  </tbody>\n",
       "</table>\n",
       "<p>2635 rows × 9 columns</p>\n",
       "</div>"
      ],
      "text/plain": [
       "                                                   text  \\\n",
       "0           can somebody tell me what morphine is for ?   \n",
       "1     <number> mg . <number> of my x <number> i feel...   \n",
       "2     oh hello crippling anxiety , let ’ s drive hom...   \n",
       "3                 pop a adderall we gone fuck all night   \n",
       "4     <hashtag> fake exercise facts </hashtag> a xan...   \n",
       "...                                                 ...   \n",
       "2630  <user> that was not annie hall or diane keaton...   \n",
       "2631  <user> suboxone for opiate dependent individua...   \n",
       "2632  small brain : love lil pump med brain : xanax ...   \n",
       "2633  <user> do they have a physician ? many will gi...   \n",
       "2634  <user> <user> <user> the uninformed would thin...   \n",
       "\n",
       "                              metadata        label              tweetid  \\\n",
       "0     {'tweetid': 1201409307167862784}      MENTION  1201409307167862784   \n",
       "1     {'tweetid': 1200007750383738885}      MENTION  1200007750383738885   \n",
       "2     {'tweetid': 1199244035006902272}  CONSUMPTION  1199244035006902272   \n",
       "3     {'tweetid': 1199782125609902084}      MENTION  1199782125609902084   \n",
       "4     {'tweetid': 1199783941764517889}      MENTION  1199783941764517889   \n",
       "...                                ...          ...                  ...   \n",
       "2630  {'tweetid': 1200980670782300160}      MENTION  1200980670782300160   \n",
       "2631  {'tweetid': 1199509721868374022}      MENTION  1199509721868374022   \n",
       "2632  {'tweetid': 1198691681119490050}      MENTION  1198691681119490050   \n",
       "2633  {'tweetid': 1200884551108714497}      MENTION  1200884551108714497   \n",
       "2634  {'tweetid': 1198545033261199361}      MENTION  1198545033261199361   \n",
       "\n",
       "         UNRELATED     ABUSE   MENTION  CONSUMPTION   prediction  \n",
       "0     1.410154e-03  0.083361  0.874763     0.040466      MENTION  \n",
       "1     1.095793e-04  0.669547  0.132934     0.197410        ABUSE  \n",
       "2     2.389672e-03  0.051098  0.449078     0.497435  CONSUMPTION  \n",
       "3     1.009009e-07  0.756364  0.243469     0.000166        ABUSE  \n",
       "4     3.177746e-05  0.014868  0.967707     0.017393      MENTION  \n",
       "...            ...       ...       ...          ...          ...  \n",
       "2630  3.268142e-04  0.010695  0.947282     0.041696      MENTION  \n",
       "2631  2.349959e-07  0.002282  0.996483     0.001235      MENTION  \n",
       "2632  2.855488e-02  0.004804  0.964649     0.001993      MENTION  \n",
       "2633  3.453002e-07  0.019952  0.953284     0.026764      MENTION  \n",
       "2634  2.934884e-05  0.000142  0.999545     0.000284      MENTION  \n",
       "\n",
       "[2635 rows x 9 columns]"
      ]
     },
     "execution_count": 9,
     "metadata": {},
     "output_type": "execute_result"
    }
   ],
   "source": [
    "val_cats_df = val_df.merge(val_df['cats'].apply(pd.Series), left_index=True, right_index=True)\n",
    "val_cats_df['prediction'] = val_cats_df.cats.map(lambda x: max(x.items(), key=lambda y: y[1])[0])\n",
    "val_cats_df = val_cats_df.drop(columns='cats')\n",
    "val_cats_df"
   ]
  },
  {
   "cell_type": "code",
   "execution_count": 14,
   "metadata": {},
   "outputs": [],
   "source": [
    "val_cats_df[['tweetid','text', 'label', 'UNRELATED', 'ABUSE', 'MENTION',\n",
    "       'CONSUMPTION', 'prediction']].to_excel('val-tweets-prediction-model.xlsx', index=False)"
   ]
  },
  {
   "cell_type": "code",
   "execution_count": 10,
   "metadata": {},
   "outputs": [
    {
     "name": "stdout",
     "output_type": "stream",
     "text": [
      "              precision    recall  f1-score   support\n",
      "\n",
      "       ABUSE       0.74      0.64      0.68       448\n",
      " CONSUMPTION       0.79      0.86      0.82       730\n",
      "     MENTION       0.88      0.88      0.88      1353\n",
      "   UNRELATED       0.93      0.91      0.92       104\n",
      "\n",
      "    accuracy                           0.83      2635\n",
      "   macro avg       0.83      0.82      0.83      2635\n",
      "weighted avg       0.83      0.83      0.83      2635\n",
      "\n"
     ]
    }
   ],
   "source": [
    "import sklearn.metrics as sklm\n",
    "\n",
    "print(sklm.classification_report(y_pred=val_cats_df['prediction'], y_true=val_cats_df['label']))"
   ]
  },
  {
   "cell_type": "code",
   "execution_count": null,
   "metadata": {},
   "outputs": [],
   "source": [
    "#sklm.average_precision_score(y_score=val_cats_df['prediction'], y_true=val_cats_df['label'])"
   ]
  },
  {
   "cell_type": "code",
   "execution_count": 16,
   "metadata": {},
   "outputs": [],
   "source": [
    "val_cats_df[['tweetid','text', 'label', 'UNRELATED', 'ABUSE', 'MENTION',\n",
    "       'CONSUMPTION', 'prediction']].to_csv('val-tweets-prediction-model.csv', index=False)"
   ]
  },
  {
   "cell_type": "code",
   "execution_count": null,
   "metadata": {},
   "outputs": [],
   "source": [
    "#val_cats_df.to_csv('task4.csv', index=False)"
   ]
  },
  {
   "cell_type": "code",
   "execution_count": null,
   "metadata": {},
   "outputs": [],
   "source": [
    "pd.set_option('max_colwidth', -1)\n",
    "\n",
    "task4_test_df.merge(val_cats_df)[['tweetid', 'Tweet', 'text', 'ABUSE', 'UNRELATED', 'MENTION', 'CONSUMPTION', 'prediction']]"
   ]
  },
  {
   "cell_type": "code",
   "execution_count": null,
   "metadata": {},
   "outputs": [],
   "source": [
    "task4_test_df = pd.read_csv('/Users/user/Downloads/task4_test_participant.csv')\n",
    "task4_test_df"
   ]
  },
  {
   "cell_type": "code",
   "execution_count": null,
   "metadata": {},
   "outputs": [],
   "source": []
  },
  {
   "cell_type": "code",
   "execution_count": null,
   "metadata": {},
   "outputs": [],
   "source": [
    "dfNEW.columns"
   ]
  },
  {
   "cell_type": "code",
   "execution_count": null,
   "metadata": {},
   "outputs": [],
   "source": []
  },
  {
   "cell_type": "code",
   "execution_count": null,
   "metadata": {},
   "outputs": [],
   "source": [
    "val_cats_df['tweetid', 'text']"
   ]
  },
  {
   "cell_type": "code",
   "execution_count": null,
   "metadata": {},
   "outputs": [],
   "source": [
    "docs = list(nlp.pipe(texts))\n"
   ]
  },
  {
   "cell_type": "code",
   "execution_count": null,
   "metadata": {},
   "outputs": [],
   "source": [
    "docs[0].to_json().get('text')"
   ]
  },
  {
   "cell_type": "code",
   "execution_count": null,
   "metadata": {},
   "outputs": [],
   "source": [
    "docs[0].to_json().get('cats')"
   ]
  },
  {
   "cell_type": "code",
   "execution_count": null,
   "metadata": {},
   "outputs": [],
   "source": [
    "get_top_cat(docs[0])"
   ]
  },
  {
   "cell_type": "code",
   "execution_count": null,
   "metadata": {},
   "outputs": [],
   "source": [
    "#tweetids\n",
    "\n",
    "class_map = {\n",
    "    'ABUSE': 'a',\n",
    "    'MENTION': 'm',\n",
    "    'CONSUMPTION': 'c',\n",
    "    'UNRELATED': 'u'\n",
    "}"
   ]
  },
  {
   "cell_type": "code",
   "execution_count": null,
   "metadata": {},
   "outputs": [],
   "source": [
    "#docs"
   ]
  },
  {
   "cell_type": "code",
   "execution_count": null,
   "metadata": {},
   "outputs": [],
   "source": [
    "#cats_list = [{'tweetid':tweet_id, 'Class': class_map.get(get_top_cat(doc)[0])} for (tweet_id,doc) in zip(tweetids,docs)] #[{'tweetid':tweet_id, 'Class': class_map.get(get_top_cat(doc)[0])} for (tweet_id,doc) in zip(tweetids,docs)]\n"
   ]
  },
  {
   "cell_type": "code",
   "execution_count": null,
   "metadata": {},
   "outputs": [],
   "source": [
    "validation_preds_df = pd.DataFrame(cats_list)\n",
    "validation_preds_df.head()"
   ]
  },
  {
   "cell_type": "code",
   "execution_count": null,
   "metadata": {},
   "outputs": [],
   "source": [
    "! rm prediction_task4.csv.zip"
   ]
  },
  {
   "cell_type": "code",
   "execution_count": null,
   "metadata": {},
   "outputs": [],
   "source": [
    "validation_preds_df.to_csv('prediction_task4.csv', index=False)"
   ]
  },
  {
   "cell_type": "code",
   "execution_count": null,
   "metadata": {},
   "outputs": [],
   "source": [
    "import glob\n",
    "\n",
    "glob.glob('/Users/user/Documents/sm*')"
   ]
  },
  {
   "cell_type": "code",
   "execution_count": 17,
   "metadata": {},
   "outputs": [],
   "source": [
    "import jsonlines\n",
    "\n",
    "with jsonlines.open('data/forprodigy/augmented-data-test_05-03-20-22-06-49.jsonl', 'r') as reader:\n",
    "    val_dat = [obj for obj in reader]"
   ]
  },
  {
   "cell_type": "code",
   "execution_count": 18,
   "metadata": {},
   "outputs": [
    {
     "data": {
      "text/html": [
       "<div>\n",
       "<style scoped>\n",
       "    .dataframe tbody tr th:only-of-type {\n",
       "        vertical-align: middle;\n",
       "    }\n",
       "\n",
       "    .dataframe tbody tr th {\n",
       "        vertical-align: top;\n",
       "    }\n",
       "\n",
       "    .dataframe thead th {\n",
       "        text-align: right;\n",
       "    }\n",
       "</style>\n",
       "<table border=\"1\" class=\"dataframe\">\n",
       "  <thead>\n",
       "    <tr style=\"text-align: right;\">\n",
       "      <th></th>\n",
       "      <th>text</th>\n",
       "      <th>metadata</th>\n",
       "      <th>label</th>\n",
       "    </tr>\n",
       "  </thead>\n",
       "  <tbody>\n",
       "    <tr>\n",
       "      <th>0</th>\n",
       "      <td>&lt;user&gt; always preferred tramadol personally 🤪</td>\n",
       "      <td>{}</td>\n",
       "      <td>CONSUMPTION</td>\n",
       "    </tr>\n",
       "    <tr>\n",
       "      <th>1</th>\n",
       "      <td>&lt;user&gt; oh my god so much is happening . &lt;repea...</td>\n",
       "      <td>{}</td>\n",
       "      <td>MENTION</td>\n",
       "    </tr>\n",
       "    <tr>\n",
       "      <th>2</th>\n",
       "      <td>&lt;user&gt; diamond dozen down day &lt;number&gt; of a lo...</td>\n",
       "      <td>{}</td>\n",
       "      <td>CONSUMPTION</td>\n",
       "    </tr>\n",
       "    <tr>\n",
       "      <th>3</th>\n",
       "      <td>about to get lit and by lit i mean take &lt;numbe...</td>\n",
       "      <td>{}</td>\n",
       "      <td>ABUSE</td>\n",
       "    </tr>\n",
       "    <tr>\n",
       "      <th>4</th>\n",
       "      <td>forgot my pregabalin 🙄 basically means that th...</td>\n",
       "      <td>{}</td>\n",
       "      <td>CONSUMPTION</td>\n",
       "    </tr>\n",
       "    <tr>\n",
       "      <th>...</th>\n",
       "      <td>...</td>\n",
       "      <td>...</td>\n",
       "      <td>...</td>\n",
       "    </tr>\n",
       "    <tr>\n",
       "      <th>2630</th>\n",
       "      <td>&lt;number&gt; adderall i am rollin ! &lt;repeated&gt;</td>\n",
       "      <td>{}</td>\n",
       "      <td>ABUSE</td>\n",
       "    </tr>\n",
       "    <tr>\n",
       "      <th>2631</th>\n",
       "      <td>&lt;user&gt; quetiapine , lamotrigin , clonazepam an...</td>\n",
       "      <td>{}</td>\n",
       "      <td>MENTION</td>\n",
       "    </tr>\n",
       "    <tr>\n",
       "      <th>2632</th>\n",
       "      <td>&lt;user&gt; i bet rubio is relieved to get reacquai...</td>\n",
       "      <td>{}</td>\n",
       "      <td>MENTION</td>\n",
       "    </tr>\n",
       "    <tr>\n",
       "      <th>2633</th>\n",
       "      <td>&lt;user&gt; they ’ re on &lt;number&gt; xanax</td>\n",
       "      <td>{}</td>\n",
       "      <td>MENTION</td>\n",
       "    </tr>\n",
       "    <tr>\n",
       "      <th>2634</th>\n",
       "      <td>&lt;user&gt; xanax reminds me of sex</td>\n",
       "      <td>{}</td>\n",
       "      <td>MENTION</td>\n",
       "    </tr>\n",
       "  </tbody>\n",
       "</table>\n",
       "<p>2635 rows × 3 columns</p>\n",
       "</div>"
      ],
      "text/plain": [
       "                                                   text metadata        label\n",
       "0         <user> always preferred tramadol personally 🤪       {}  CONSUMPTION\n",
       "1     <user> oh my god so much is happening . <repea...       {}      MENTION\n",
       "2     <user> diamond dozen down day <number> of a lo...       {}  CONSUMPTION\n",
       "3     about to get lit and by lit i mean take <numbe...       {}        ABUSE\n",
       "4     forgot my pregabalin 🙄 basically means that th...       {}  CONSUMPTION\n",
       "...                                                 ...      ...          ...\n",
       "2630         <number> adderall i am rollin ! <repeated>       {}        ABUSE\n",
       "2631  <user> quetiapine , lamotrigin , clonazepam an...       {}      MENTION\n",
       "2632  <user> i bet rubio is relieved to get reacquai...       {}      MENTION\n",
       "2633                 <user> they ’ re on <number> xanax       {}      MENTION\n",
       "2634                     <user> xanax reminds me of sex       {}      MENTION\n",
       "\n",
       "[2635 rows x 3 columns]"
      ]
     },
     "execution_count": 18,
     "metadata": {},
     "output_type": "execute_result"
    }
   ],
   "source": [
    "val_df = pd.DataFrame(val_dat)\n",
    "val_df"
   ]
  },
  {
   "cell_type": "code",
   "execution_count": null,
   "metadata": {},
   "outputs": [],
   "source": [
    "import spacy\n",
    "# model loaded here\n",
    "nlp = spacy.load('models/finalsm4hmodel/')"
   ]
  }
 ],
 "metadata": {
  "kernelspec": {
   "display_name": "Python 3 (ipykernel)",
   "language": "python",
   "name": "python3"
  },
  "language_info": {
   "codemirror_mode": {
    "name": "ipython",
    "version": 3
   },
   "file_extension": ".py",
   "mimetype": "text/x-python",
   "name": "python",
   "nbconvert_exporter": "python",
   "pygments_lexer": "ipython3",
   "version": "3.10.0"
  }
 },
 "nbformat": 4,
 "nbformat_minor": 4
}
